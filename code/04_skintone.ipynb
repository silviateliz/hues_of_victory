{
 "cells": [
  {
   "cell_type": "markdown",
   "id": "d36540d8",
   "metadata": {},
   "source": [
    "# Skin tone analysis\n",
    "For this analysis I use the skin-tone-classifier python module (https://github.com/ChenglongMa/SkinToneClassifier?tab=readme-ov-file#install-the-cli-mode-and-the-gui-mode). "
   ]
  },
  {
   "cell_type": "code",
   "execution_count": 24,
   "id": "92143f9f",
   "metadata": {},
   "outputs": [],
   "source": [
    "# Import packages\n",
    "import numpy as np\n",
    "import pandas as pd\n",
    "import stone\n",
    "from json import dumps"
   ]
  },
  {
   "cell_type": "markdown",
   "id": "50cb5321",
   "metadata": {},
   "source": [
    "## INE portraits"
   ]
  },
  {
   "cell_type": "code",
   "execution_count": 26,
   "id": "ba91a0ed",
   "metadata": {},
   "outputs": [
    {
     "name": "stderr",
     "output_type": "stream",
     "text": [
      "14142.70s - pydevd: Sending message related to process being replaced timed-out after 5 seconds\n"
     ]
    },
    {
     "name": "stdout",
     "output_type": "stream",
     "text": [
      "The program is processing your images...\n",
      "Please wait for the program to finish.\n",
      "Processing 10juanpan:   0%| | 2/1242 [00:01<27:50,  1.35s/images, Image Type=col13adripri.jpg is not found or is not a valid image.\n",
      "13sanjprd.jpg is not found or is not a valid image.\n",
      "Processing 10maripan:   0%| | 4/1242 [00:01<05:51,  3.52images/s, Image Type=col20davimc.jpg is not found or is not a valid image.\n",
      "20doramc.jpg is not found or is not a valid image.\n",
      "21almamc.jpg is not found or is not a valid image.\n",
      "22concmc.jpg is not found or is not a valid image.\n",
      "23luismc.jpg is not found or is not a valid image.\n",
      "24catamc.jpg is not found or is not a valid image.\n",
      "24rocimor.jpg is not found or is not a valid image.\n",
      "25hectmc.jpg is not found or is not a valid image.\n",
      "26marcmc.jpg is not found or is not a valid image.\n",
      "27laurmc.jpg is not found or is not a valid image.\n",
      "28hectpan.jpg is not found or is not a valid image.\n",
      "28oscamc.jpg is not found or is not a valid image.\n",
      "29hildmor.jpg is not found or is not a valid image.\n",
      "29leslmc.jpg is not found or is not a valid image.\n",
      "30alvamc.jpg is not found or is not a valid image.\n",
      "30marimc.jpg is not found or is not a valid image.\n",
      "31gabrmc.jpg is not found or is not a valid image.\n",
      "32jesumc.jpg is not found or is not a valid image.\n",
      "40maripve.jpg is not found or is not a valid image.\n",
      "41eldapve.jpg is not found or is not a valid image.\n",
      "50jorgmc.jpg is not found or is not a valid image.\n",
      "50valemc.jpg is not found or is not a valid image.\n",
      "51eunimc.jpg is not found or is not a valid image.\n",
      "52humbmc.jpg is not found or is not a valid image.\n",
      "53eugemc.jpg is not found or is not a valid image.\n",
      "54josemc.jpg is not found or is not a valid image.\n",
      "55juanmc.jpg is not found or is not a valid image.\n",
      "56irmamc.jpg is not found or is not a valid image.\n",
      "57aidamc.jpg is not found or is not a valid image.\n",
      "58estemc.jpg is not found or is not a valid image.\n",
      "60germpan.jpg is not found or is not a valid image.\n",
      "61romemc.jpg is not found or is not a valid image.\n",
      "Processing 29maript:   5%| | 68/1242 [00:03<11:50,  1.65images/s, Image Type=col71crecmc.jpg is not found or is not a valid image.\n",
      "Processing 29raulpan:   6%| | 69/1242 [00:03<11:50,  1.65images/s, Image Type=co71sergpan.jpg is not found or is not a valid image.\n",
      "Processing 70flormc:  11%| | 136/1242 [00:03<00:16, 68.52images/s, Image Type=co73silvpan.jpg is not found or is not a valid image.\n",
      "75marcpan.jpg is not found or is not a valid image.\n",
      "Processing 73marcmc:  12%| | 152/1242 [00:04<00:15, 68.52images/s, Image Type=co78erikpan.jpg is not found or is not a valid image.\n",
      "Processing 76florpve:  13%|▏| 161/1242 [00:04<00:15, 68.52images/s, Image Type=c79lourmc.jpg is not found or is not a valid image.\n",
      "Processing 76geramc:  13%|▏| 162/1242 [00:04<00:15, 68.52images/s, Image Type=co82lilimc.jpg is not found or is not a valid image.\n",
      "82marlpan.jpg is not found or is not a valid image.\n",
      "83manupan.jpg is not found or is not a valid image.\n",
      "84claumc.jpg is not found or is not a valid image.\n",
      "85juanpan.jpg is not found or is not a valid image.\n",
      "85migupve.jpg is not found or is not a valid image.\n",
      "Processing 86ericmc:  16%|▏| 197/1242 [00:05<00:22, 47.46images/s, Image Type=co90sandmc.jpg is not found or is not a valid image.\n",
      "93marcmc.jpg is not found or is not a valid image.\n",
      "101felimc.jpg is not found or is not a valid image.\n",
      "111josemc.jpg is not found or is not a valid image.\n",
      "112danimc.jpg is not found or is not a valid image.\n",
      "112ricapan.jpg is not found or is not a valid image.\n",
      "113fernpan.jpg is not found or is not a valid image.\n",
      "113jorgmc.jpg is not found or is not a valid image.\n",
      "119gabrmc.jpg is not found or is not a valid image.\n",
      "120eneimc.jpg is not found or is not a valid image.\n",
      "121adelmc.jpg is not found or is not a valid image.\n",
      "121mairpan.jpg is not found or is not a valid image.\n",
      "122victmc.jpg is not found or is not a valid image.\n",
      "123luzmc.jpg is not found or is not a valid image.\n",
      "124luismc.jpg is not found or is not a valid image.\n",
      "125adrimc.jpg is not found or is not a valid image.\n",
      "126sandmc.jpg is not found or is not a valid image.\n",
      "127joelmc.jpg is not found or is not a valid image.\n",
      "128gabrmc.jpg is not found or is not a valid image.\n",
      "130sandmor.jpg is not found or is not a valid image.\n",
      "132magapan.jpg is not found or is not a valid image.\n",
      "133tatimor.jpg is not found or is not a valid image.\n",
      "135aracpan.jpg is not found or is not a valid image.\n",
      "135astrmor.jpg is not found or is not a valid image.\n",
      "136ricamor.jpg is not found or is not a valid image.\n",
      "Processing 110jorgmc:  21%|▏| 266/1242 [00:10<01:04, 15.19images/s, Image Type=c145brunmor.jpg is not found or is not a valid image.\n",
      "Processing 110jorgmc:  21%|▏| 266/1242 [00:10<01:04, 15.19images/s, Image Type=c145gerapan.jpg is not found or is not a valid image.\n",
      "Processing 110virgpve:  22%|▏| 268/1242 [00:10<01:04, 15.19images/s, Image Type=145yesimc.jpg is not found or is not a valid image.\n",
      "Processing 143reymmor:  32%|▎| 393/1242 [00:10<00:15, 56.30images/s, Image Type=149veropan.jpg is not found or is not a valid image.\n",
      "150karlmc.jpg is not found or is not a valid image.\n",
      "150maripve.jpg is not found or is not a valid image.\n",
      "152dionpve.jpg is not found or is not a valid image.\n",
      "154julipan.jpg is not found or is not a valid image.\n",
      "158anaypve.jpg is not found or is not a valid image.\n",
      "161ulismc.jpg is not found or is not a valid image.\n",
      "162danimc.jpg is not found or is not a valid image.\n",
      "164hugomc.jpg is not found or is not a valid image.\n",
      "165jessmc.jpg is not found or is not a valid image.\n",
      "167geramc.jpg is not found or is not a valid image.\n",
      "168robepan.jpg is not found or is not a valid image.\n",
      "Processing 173cindpve:  40%|▍| 495/1242 [00:12<00:16, 43.94images/s, Image Type=182candmc.jpg is not found or is not a valid image.\n",
      "190fernpan.jpg is not found or is not a valid image.\n",
      "191jesupve.jpg is not found or is not a valid image.\n",
      "Processing 195santpve:  43%|▍| 539/1242 [00:13<00:11, 59.11images/s, Image Type=200elvimc.jpg is not found or is not a valid image.\n",
      "200flormc.jpg is not found or is not a valid image.\n",
      "200maripri.jpg is not found or is not a valid image.\n",
      "201amalpan.jpg is not found or is not a valid image.\n",
      "201ivanmc.jpg is not found or is not a valid image.\n",
      "202marimc.jpg is not found or is not a valid image.\n",
      "204jesupan.jpg is not found or is not a valid image.\n",
      "204palemc.jpg is not found or is not a valid image.\n",
      "Processing 196annipan:  43%|▍| 540/1242 [00:14<00:11, 59.11images/s, Image Type=206angemc.jpg is not found or is not a valid image.\n",
      "Processing 196artupve:  44%|▍| 541/1242 [00:14<00:11, 59.11images/s, Image Type=206josepan.jpg is not found or is not a valid image.\n",
      "Processing 205caromor:  47%|▍| 580/1242 [00:14<00:11, 56.22images/s, Image Type=208javimc.jpg is not found or is not a valid image.\n",
      "209maripve.jpg is not found or is not a valid image.\n",
      "209neftmc.jpg is not found or is not a valid image.\n",
      "Processing 220alejpve:  51%|▌| 631/1242 [00:15<00:13, 45.79images/s, Image Type=231carlmc.jpg is not found or is not a valid image.\n",
      "Processing 225javimc:  53%|▌| 657/1242 [00:16<00:12, 45.79images/s, Image Type=c232laylmc.jpg is not found or is not a valid image.\n",
      "233marimc.jpg is not found or is not a valid image.\n",
      "234aridmc.jpg is not found or is not a valid image.\n",
      "234martpan.jpg is not found or is not a valid image.\n",
      "241carlpan.jpg is not found or is not a valid image.\n",
      "241erikmc.jpg is not found or is not a valid image.\n",
      "242josepve.jpg is not found or is not a valid image.\n",
      "243eirapan.jpg is not found or is not a valid image.\n",
      "Processing 225maripan:  53%|▌| 658/1242 [00:16<00:12, 45.79images/s, Image Type=245danipve.jpg is not found or is not a valid image.\n",
      "Processing 231juanpve:  54%|▌| 669/1242 [00:16<00:12, 45.07images/s, Image Type=250marimc.jpg is not found or is not a valid image.\n",
      "253lilipan.jpg is not found or is not a valid image.\n",
      "257cruzpan.jpg is not found or is not a valid image.\n",
      "Processing 254luispan:  59%|▌| 735/1242 [00:19<00:26, 18.87images/s, Image Type=261claumc.jpg is not found or is not a valid image.\n",
      "Processing 263jorgpan:  62%|▌| 764/1242 [00:20<00:10, 44.09images/s, Image Type=266gustmc.jpg is not found or is not a valid image.\n",
      "Processing 264ramopve:  62%|▌| 768/1242 [00:20<00:10, 44.09images/s, Image Type=271adrimc.jpg is not found or is not a valid image.\n",
      "272ramomc.jpg is not found or is not a valid image.\n",
      "281alfomc.jpg is not found or is not a valid image.\n",
      "281manupan.jpg is not found or is not a valid image.\n",
      "282martmc.jpg is not found or is not a valid image.\n",
      "283jesumc.jpg is not found or is not a valid image.\n",
      "284hectmc.jpg is not found or is not a valid image.\n",
      "284hectpan.jpg is not found or is not a valid image.\n",
      "286robemc.jpg is not found or is not a valid image.\n",
      "Processing 265jacopve:  62%|▌| 771/1242 [00:21<00:10, 44.09images/s, Image Type=288ednamc.jpg is not found or is not a valid image.\n",
      "Processing 273ledimc:  64%|▋| 801/1242 [00:21<00:17, 25.32images/s, Image Type=c300migupan.jpg is not found or is not a valid image.\n",
      "301maripan.jpg is not found or is not a valid image.\n",
      "302anapan.jpg is not found or is not a valid image.\n",
      "Processing 300manupve:  70%|▋| 874/1242 [00:22<00:12, 29.50images/s, Image Type=306sergpan.jpg is not found or is not a valid image.\n",
      "307josepan.jpg is not found or is not a valid image.\n",
      "308migumc.jpg is not found or is not a valid image.\n",
      "308perlpan.jpg is not found or is not a valid image.\n",
      "315fatimc.jpg is not found or is not a valid image.\n",
      "320migupan.jpg is not found or is not a valid image.\n",
      "321gabrmc.jpg is not found or is not a valid image.\n",
      "322josepan.jpg is not found or is not a valid image.\n",
      "322sandmc.jpg is not found or is not a valid image.\n",
      "323ulispve.jpg is not found or is not a valid image.\n",
      "Processing 320claupan:  75%|▋| 930/1242 [00:23<00:08, 38.58images/s, Image Type=710jesupan.jpg is not found or is not a valid image.\n",
      "711blanpan.jpg is not found or is not a valid image.\n",
      "Processing 910ulispve:  78%|▊| 967/1242 [00:24<00:05, 49.42images/s, Image Type=916estepve.jpg is not found or is not a valid image.\n",
      "916perlmc.jpg is not found or is not a valid image.\n",
      "Processing 913franpve:  79%|▊| 975/1242 [00:24<00:04, 62.42images/s, Image Type=919alinmc.jpg is not found or is not a valid image.\n",
      "Processing 915abramc:  79%|▊| 979/1242 [00:24<00:04, 62.42images/s, Image Type=c920martpan.jpg is not found or is not a valid image.\n",
      "922monspan.jpg is not found or is not a valid image.\n",
      "1110aldamc.jpg is not found or is not a valid image.\n",
      "1111danimc.jpg is not found or is not a valid image.\n",
      "1112jessmc.jpg is not found or is not a valid image.\n",
      "Processing 918cutbpan:  80%|▊| 988/1242 [00:25<00:04, 53.67images/s, Image Type=1114mirymc.jpg is not found or is not a valid image.\n",
      "1115marimc.jpg is not found or is not a valid image.\n",
      "1411meripve.jpg is not found or is not a valid image.\n",
      "1413betsmc.jpg is not found or is not a valid image.\n",
      "1413danipan.jpg is not found or is not a valid image.\n",
      "Processing 1414sagrmc:  83%|▊| 1037/1242 [00:25<00:03, 63.02images/s, Image Type1419juanmc.jpg is not found or is not a valid image.\n",
      "Processing 1420ricamc:  85%|▊| 1055/1242 [00:26<00:02, 62.35images/s, Image Type1512maripan.jpg is not found or is not a valid image.\n",
      "Processing 1515angemc:  87%|▊| 1075/1242 [00:26<00:02, 56.41images/s, Image Type1520rosamc.jpg is not found or is not a valid image.\n",
      "1524ursupan.jpg is not found or is not a valid image.\n",
      "Processing 1518josepan:  88%|▉| 1087/1242 [00:27<00:06, 25.66images/s, Image Typ1526tanipan.jpg is not found or is not a valid image.\n",
      "Processing 1518juanmc:  88%|▉| 1088/1242 [00:27<00:06, 25.66images/s, Image Type1527wblepve.jpg is not found or is not a valid image.\n",
      "Processing 1522martpan:  89%|▉| 1100/1242 [00:27<00:04, 30.89images/s, Image Typ1530aracpan.jpg is not found or is not a valid image.\n",
      "1534maripan.jpg is not found or is not a valid image.\n",
      "1535aurepan.jpg is not found or is not a valid image.\n",
      "1536juanpve.jpg is not found or is not a valid image.\n",
      "1537josepan.jpg is not found or is not a valid image.\n",
      "1539alanpan.jpg is not found or is not a valid image.\n",
      "1539josepve.jpg is not found or is not a valid image.\n",
      "Processing 1912everpan:  95%|▉| 1177/1242 [00:29<00:04, 14.57images/s, Image Typ2010beatmc.jpg is not found or is not a valid image.\n",
      "Processing 1914josepve:  95%|▉| 1184/1242 [00:29<00:01, 49.53images/s, Image Typ2111josepan.jpg is not found or is not a valid image.\n",
      "Processing 1914oscamc:  95%|▉| 1185/1242 [00:30<00:01, 49.53images/s, Image Type2112norapve.jpg is not found or is not a valid image.\n",
      "Processing 3010erikmc:  98%|▉| 1214/1242 [00:30<00:00, 46.71images/s, Image Type3018benipve.jpg is not found or is not a valid image.\n",
      "Processing 3011josemc:  98%|▉| 1215/1242 [00:31<00:00, 46.71images/s, Image Type3019renamc.jpg is not found or is not a valid image.\n",
      "Processing 3019paolpve: 100%|█| 1242/1242 [00:31<00:00, 39.38images/s, Image Typ\n"
     ]
    }
   ],
   "source": [
    "# Obtain skin color measurements from ine portraits\n",
    "!stone -i ../portraits/ine --debug -o ../data/processed/skintone_ine -t color -p proder -l 1-11\n",
    "\n",
    "# -o = output directory\n",
    "# -l = label (1-11)\n",
    "# -p = PRODER color palette"
   ]
  },
  {
   "cell_type": "markdown",
   "id": "e401c6d7",
   "metadata": {},
   "source": [
    "### Clean INE results data"
   ]
  },
  {
   "cell_type": "code",
   "execution_count": 27,
   "id": "5e92b981",
   "metadata": {},
   "outputs": [],
   "source": [
    "# Load results data\n",
    "ine_results = pd.read_csv('../data/processed/skintone_ine/result.csv') \n",
    "\n",
    "# Change column names\n",
    "ine_results = ine_results.rename(columns={'image type': 'image_type', 'face id': 'face_id', 'dominant 1': 'dominant_1',\n",
    "                            'percent 1':'percent_1', 'dominant 2': 'dominant_2', 'percent 2': 'percent_2',\n",
    "                            'skin tone': 'skin_tone', 'tone label': 'tone_label'})\n",
    "\n",
    "# Add column to identify data source\n",
    "ine_results['source'] = 'ine'"
   ]
  },
  {
   "cell_type": "markdown",
   "id": "72622537",
   "metadata": {},
   "source": [
    "## SaberVotar portraits"
   ]
  },
  {
   "cell_type": "code",
   "execution_count": 28,
   "id": "9259e21d",
   "metadata": {},
   "outputs": [
    {
     "name": "stderr",
     "output_type": "stream",
     "text": [
      "14208.99s - pydevd: Sending message related to process being replaced timed-out after 5 seconds\n"
     ]
    },
    {
     "name": "stdout",
     "output_type": "stream",
     "text": [
      "The program is processing your images...\n",
      "Please wait for the program to finish.\n",
      "Processing 3019renamc: 100%|█| 1189/1189 [00:14<00:00, 82.08images/s, Image Type\n"
     ]
    }
   ],
   "source": [
    "# Obtain skin color measurements from sabervotar portraits\n",
    "!stone -i ../portraits/sv --debug -o ../data/processed/skintone_sv -t color -p proder -l 1-11\n",
    "\n",
    "# -o = output directory\n",
    "# -l = label (1-11)\n",
    "# -p = PRODER color palette"
   ]
  },
  {
   "cell_type": "markdown",
   "id": "5416b59d",
   "metadata": {},
   "source": [
    "## Clean SaberVotar results data"
   ]
  },
  {
   "cell_type": "code",
   "execution_count": 29,
   "id": "82690a4b",
   "metadata": {},
   "outputs": [],
   "source": [
    "# Load results data\n",
    "sv_results = pd.read_csv('../data/processed/skintone_sv/result.csv') \n",
    "\n",
    "# Change column names\n",
    "sv_results = sv_results.rename(columns={'image type': 'image_type', 'face id': 'face_id', 'dominant 1': 'dominant_1',\n",
    "                            'percent 1':'percent_1', 'dominant 2': 'dominant_2', 'percent 2': 'percent_2',\n",
    "                            'skin tone': 'skin_tone', 'tone label': 'tone_label'})\n",
    "\n",
    "# Add column to identify data source\n",
    "sv_results['source'] = 'sv'"
   ]
  },
  {
   "cell_type": "markdown",
   "id": "9964631e",
   "metadata": {},
   "source": [
    "## Export results dataset"
   ]
  },
  {
   "cell_type": "code",
   "execution_count": 30,
   "id": "919e0712",
   "metadata": {},
   "outputs": [],
   "source": [
    "# Join ine and sabervotar results\n",
    "results = pd.concat([ine_results, sv_results], ignore_index=True)\n",
    "\n",
    "# Export results to CSV\n",
    "results.to_csv('../data/processed/04_skintone.csv', index=False)"
   ]
  },
  {
   "cell_type": "markdown",
   "id": "579e8c92",
   "metadata": {},
   "source": [
    "# "
   ]
  }
 ],
 "metadata": {
  "kernelspec": {
   "display_name": "hov",
   "language": "python",
   "name": "python3"
  },
  "language_info": {
   "codemirror_mode": {
    "name": "ipython",
    "version": 3
   },
   "file_extension": ".py",
   "mimetype": "text/x-python",
   "name": "python",
   "nbconvert_exporter": "python",
   "pygments_lexer": "ipython3",
   "version": "3.10.16"
  }
 },
 "nbformat": 4,
 "nbformat_minor": 5
}
