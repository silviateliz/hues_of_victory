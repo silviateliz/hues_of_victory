{
 "cells": [
  {
   "cell_type": "markdown",
   "id": "d36540d8",
   "metadata": {},
   "source": [
    "# Skin tone analysis\n",
    "For this analysis I use the skin-tone-classifier python module (https://github.com/ChenglongMa/SkinToneClassifier?tab=readme-ov-file#install-the-cli-mode-and-the-gui-mode). "
   ]
  },
  {
   "cell_type": "code",
   "execution_count": 8,
   "id": "92143f9f",
   "metadata": {},
   "outputs": [],
   "source": [
    "# Import packages\n",
    "import numpy as np\n",
    "import pandas as pd\n",
    "import stone\n",
    "from json import dumps"
   ]
  },
  {
   "cell_type": "markdown",
   "id": "50cb5321",
   "metadata": {},
   "source": [
    "## INE portraits"
   ]
  },
  {
   "cell_type": "code",
   "execution_count": null,
   "id": "ba91a0ed",
   "metadata": {},
   "outputs": [],
   "source": [
    "# Obtain skin color measurements from ine portraits\n",
    "!stone -i ../portraits/ine --debug -o ../data/processed/skintone_ine -t color -p proder -l 1-11\n",
    "\n",
    "# -o = output directory\n",
    "# -l = label (1-11)\n",
    "# -p = PRODER color palette"
   ]
  },
  {
   "cell_type": "markdown",
   "id": "e401c6d7",
   "metadata": {},
   "source": [
    "### Clean INE results data"
   ]
  },
  {
   "cell_type": "code",
   "execution_count": 20,
   "id": "5e92b981",
   "metadata": {},
   "outputs": [],
   "source": [
    "# Load results data\n",
    "ine_results = pd.read_csv('../data/processed/skintone_ine/result.csv') \n",
    "\n",
    "# Change column names\n",
    "ine_results = ine_results.rename(columns={'image type': 'image_type', 'face id': 'face_id', 'dominant 1': 'dominant_1',\n",
    "                            'percent 1':'percent_1', 'dominant 2': 'dominant_2', 'percent 2': 'percent_2',\n",
    "                            'skin tone': 'skin_tone', 'tone label': 'tone_label'})\n",
    "\n",
    "# Add column to identify data source\n",
    "ine_results['source'] = 'ine'"
   ]
  },
  {
   "cell_type": "markdown",
   "id": "72622537",
   "metadata": {},
   "source": [
    "## SaberVotar portraits"
   ]
  },
  {
   "cell_type": "code",
   "execution_count": null,
   "id": "9259e21d",
   "metadata": {},
   "outputs": [],
   "source": [
    "# Obtain skin color measurements from sabervotar portraits\n",
    "!stone -i ../portraits/sv --debug -o ../data/processed/skintone_sv -t color -p proder -l 1-11\n",
    "\n",
    "# -o = output directory\n",
    "# -l = label (1-11)\n",
    "# -p = PRODER color palette"
   ]
  },
  {
   "cell_type": "markdown",
   "id": "5416b59d",
   "metadata": {},
   "source": [
    "## Clean SaberVotar results data"
   ]
  },
  {
   "cell_type": "code",
   "execution_count": 21,
   "id": "82690a4b",
   "metadata": {},
   "outputs": [],
   "source": [
    "# Load results data\n",
    "sv_results = pd.read_csv('../data/processed/skintone_sv/result.csv') \n",
    "\n",
    "# Change column names\n",
    "sv_results = sv_results.rename(columns={'image type': 'image_type', 'face id': 'face_id', 'dominant 1': 'dominant_1',\n",
    "                            'percent 1':'percent_1', 'dominant 2': 'dominant_2', 'percent 2': 'percent_2',\n",
    "                            'skin tone': 'skin_tone', 'tone label': 'tone_label'})\n",
    "\n",
    "# Add column to identify data source\n",
    "sv_results['source'] = 'sv'"
   ]
  },
  {
   "cell_type": "markdown",
   "id": "9964631e",
   "metadata": {},
   "source": [
    "## Export results dataset"
   ]
  },
  {
   "cell_type": "code",
   "execution_count": 23,
   "id": "919e0712",
   "metadata": {},
   "outputs": [],
   "source": [
    "# Join ine and sabervotar results\n",
    "results = pd.concat([ine_results, sv_results], ignore_index=True)\n",
    "\n",
    "# Export results to CSV\n",
    "results.to_csv('../data/processed/04_skintone.csv', index=False)"
   ]
  },
  {
   "cell_type": "markdown",
   "id": "579e8c92",
   "metadata": {},
   "source": [
    "# "
   ]
  }
 ],
 "metadata": {
  "kernelspec": {
   "display_name": "hov",
   "language": "python",
   "name": "python3"
  },
  "language_info": {
   "codemirror_mode": {
    "name": "ipython",
    "version": 3
   },
   "file_extension": ".py",
   "mimetype": "text/x-python",
   "name": "python",
   "nbconvert_exporter": "python",
   "pygments_lexer": "ipython3",
   "version": "3.10.16"
  }
 },
 "nbformat": 4,
 "nbformat_minor": 5
}
